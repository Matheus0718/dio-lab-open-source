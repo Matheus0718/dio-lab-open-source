{
  "nbformat": 4,
  "nbformat_minor": 0,
  "metadata": {
    "colab": {
      "provenance": [],
      "authorship_tag": "ABX9TyPL0gqgNeQDjrtV/TqdfQvT",
      "include_colab_link": true
    },
    "kernelspec": {
      "name": "python3",
      "display_name": "Python 3"
    },
    "language_info": {
      "name": "python"
    }
  },
  "cells": [
    {
      "cell_type": "markdown",
      "metadata": {
        "id": "view-in-github",
        "colab_type": "text"
      },
      "source": [
        "<a href=\"https://colab.research.google.com/github/Matheus0718/dio-lab-open-source/blob/main/Projeto_DIO_MatheusSoaresipynb.ipynb\" target=\"_parent\"><img src=\"https://colab.research.google.com/assets/colab-badge.svg\" alt=\"Open In Colab\"/></a>"
      ]
    },
    {
      "cell_type": "code",
      "source": [
        "sdw2023_api_url ='https://sdw-2023-prd.up.railway.app/swagger-ui/index.html#/' ###estava dando erro ao fazer o usuário,\n",
        "                                                                               ###verifiquei várias vezes o código e mesmo assim não rodou\n",
        "\n",
        "##Exemplo do que eu tentei fazer, ja tirei o id tbm mas não deu certo\n",
        "#   \"id\":4,\n",
        "#   \"name\": \"Matheus Soares\",\n",
        "#   \"account\": {\n",
        "#     \"id\":4,\n",
        "#     \"number\": \"00089-2\",\n",
        "#     \"agency\": \"4413\",\n",
        "#      balance\": 0,\n",
        "#     \"limit\": 1000.00\n",
        "#   },\n",
        "#   \"card\": {\n",
        "#     \"id\":4,\n",
        "#     \"number\": \"**** **** **** 1111\",\n",
        "#     \"limit\": 3000.00\n",
        "#   }\n",
        "# }"
      ],
      "metadata": {
        "id": "Q38beLCg5Uxo"
      },
      "execution_count": 6,
      "outputs": []
    },
    {
      "cell_type": "code",
      "execution_count": null,
      "metadata": {
        "id": "o_9PADvj1bkU",
        "colab": {
          "base_uri": "https://localhost:8080/"
        },
        "outputId": "96f6aba2-69b0-4351-ee12-ba88fa4442c1"
      },
      "outputs": [
        {
          "output_type": "stream",
          "name": "stdout",
          "text": [
            "[4, 5, 6]\n"
          ]
        }
      ],
      "source": [
        "import pandas as pd\n",
        "\n",
        "df = pd.read_csv('SDW2025.csv.txt')\n",
        "user_ids = df['UserID'].tolist()\n",
        "print(user_ids)"
      ]
    },
    {
      "cell_type": "code",
      "source": [],
      "metadata": {
        "id": "6IK2QC-dG1xi"
      },
      "execution_count": null,
      "outputs": []
    },
    {
      "cell_type": "markdown",
      "source": [
        "#EXTRAÇÃO\n"
      ],
      "metadata": {
        "id": "CxexGy-y4Fay"
      }
    },
    {
      "cell_type": "code",
      "source": [
        "import requests\n",
        "import json\n",
        "\n",
        "def obter_user(id):\n",
        "     response = resquests.get(f'{sdw2023_api_url}/users/{id}')\n",
        "     return response.json() if response.status_code == 200 else None\n",
        "\n",
        "\n",
        "\n",
        "users = [user for id in user_ids if (user := obter_user(id)) is not None]\n",
        "print(json.dumps(users, ident=2))\n",
        "\n"
      ],
      "metadata": {
        "id": "bj32noqH2yeT"
      },
      "execution_count": null,
      "outputs": []
    },
    {
      "cell_type": "markdown",
      "source": [
        "#TRANSFORMAÇÃO\n"
      ],
      "metadata": {
        "id": "oCjNTKHl75sY"
      }
    },
    {
      "cell_type": "code",
      "source": [
        "#INSTALAÇÃO DA BIBLIOTECA OpenAI\n",
        "!pip install openai\n"
      ],
      "metadata": {
        "id": "AXMyHDz579rt",
        "colab": {
          "base_uri": "https://localhost:8080/"
        },
        "outputId": "7a2b588b-9dc9-4cc3-db9b-b251ec85648a"
      },
      "execution_count": 5,
      "outputs": [
        {
          "output_type": "stream",
          "name": "stdout",
          "text": [
            "Collecting openai\n",
            "  Downloading openai-1.42.0-py3-none-any.whl.metadata (22 kB)\n",
            "Requirement already satisfied: anyio<5,>=3.5.0 in /usr/local/lib/python3.10/dist-packages (from openai) (3.7.1)\n",
            "Requirement already satisfied: distro<2,>=1.7.0 in /usr/lib/python3/dist-packages (from openai) (1.7.0)\n",
            "Collecting httpx<1,>=0.23.0 (from openai)\n",
            "  Downloading httpx-0.27.0-py3-none-any.whl.metadata (7.2 kB)\n",
            "Collecting jiter<1,>=0.4.0 (from openai)\n",
            "  Downloading jiter-0.5.0-cp310-cp310-manylinux_2_17_x86_64.manylinux2014_x86_64.whl.metadata (3.6 kB)\n",
            "Requirement already satisfied: pydantic<3,>=1.9.0 in /usr/local/lib/python3.10/dist-packages (from openai) (2.8.2)\n",
            "Requirement already satisfied: sniffio in /usr/local/lib/python3.10/dist-packages (from openai) (1.3.1)\n",
            "Requirement already satisfied: tqdm>4 in /usr/local/lib/python3.10/dist-packages (from openai) (4.66.5)\n",
            "Requirement already satisfied: typing-extensions<5,>=4.11 in /usr/local/lib/python3.10/dist-packages (from openai) (4.12.2)\n",
            "Requirement already satisfied: idna>=2.8 in /usr/local/lib/python3.10/dist-packages (from anyio<5,>=3.5.0->openai) (3.7)\n",
            "Requirement already satisfied: exceptiongroup in /usr/local/lib/python3.10/dist-packages (from anyio<5,>=3.5.0->openai) (1.2.2)\n",
            "Requirement already satisfied: certifi in /usr/local/lib/python3.10/dist-packages (from httpx<1,>=0.23.0->openai) (2024.7.4)\n",
            "Collecting httpcore==1.* (from httpx<1,>=0.23.0->openai)\n",
            "  Downloading httpcore-1.0.5-py3-none-any.whl.metadata (20 kB)\n",
            "Collecting h11<0.15,>=0.13 (from httpcore==1.*->httpx<1,>=0.23.0->openai)\n",
            "  Downloading h11-0.14.0-py3-none-any.whl.metadata (8.2 kB)\n",
            "Requirement already satisfied: annotated-types>=0.4.0 in /usr/local/lib/python3.10/dist-packages (from pydantic<3,>=1.9.0->openai) (0.7.0)\n",
            "Requirement already satisfied: pydantic-core==2.20.1 in /usr/local/lib/python3.10/dist-packages (from pydantic<3,>=1.9.0->openai) (2.20.1)\n",
            "Downloading openai-1.42.0-py3-none-any.whl (362 kB)\n",
            "\u001b[2K   \u001b[90m━━━━━━━━━━━━━━━━━━━━━━━━━━━━━━━━━━━━━━━━\u001b[0m \u001b[32m362.9/362.9 kB\u001b[0m \u001b[31m14.0 MB/s\u001b[0m eta \u001b[36m0:00:00\u001b[0m\n",
            "\u001b[?25hDownloading httpx-0.27.0-py3-none-any.whl (75 kB)\n",
            "\u001b[2K   \u001b[90m━━━━━━━━━━━━━━━━━━━━━━━━━━━━━━━━━━━━━━━━\u001b[0m \u001b[32m75.6/75.6 kB\u001b[0m \u001b[31m5.4 MB/s\u001b[0m eta \u001b[36m0:00:00\u001b[0m\n",
            "\u001b[?25hDownloading httpcore-1.0.5-py3-none-any.whl (77 kB)\n",
            "\u001b[2K   \u001b[90m━━━━━━━━━━━━━━━━━━━━━━━━━━━━━━━━━━━━━━━━\u001b[0m \u001b[32m77.9/77.9 kB\u001b[0m \u001b[31m5.4 MB/s\u001b[0m eta \u001b[36m0:00:00\u001b[0m\n",
            "\u001b[?25hDownloading jiter-0.5.0-cp310-cp310-manylinux_2_17_x86_64.manylinux2014_x86_64.whl (318 kB)\n",
            "\u001b[2K   \u001b[90m━━━━━━━━━━━━━━━━━━━━━━━━━━━━━━━━━━━━━━━━\u001b[0m \u001b[32m318.9/318.9 kB\u001b[0m \u001b[31m19.8 MB/s\u001b[0m eta \u001b[36m0:00:00\u001b[0m\n",
            "\u001b[?25hDownloading h11-0.14.0-py3-none-any.whl (58 kB)\n",
            "\u001b[2K   \u001b[90m━━━━━━━━━━━━━━━━━━━━━━━━━━━━━━━━━━━━━━━━\u001b[0m \u001b[32m58.3/58.3 kB\u001b[0m \u001b[31m4.2 MB/s\u001b[0m eta \u001b[36m0:00:00\u001b[0m\n",
            "\u001b[?25hInstalling collected packages: jiter, h11, httpcore, httpx, openai\n",
            "Successfully installed h11-0.14.0 httpcore-1.0.5 httpx-0.27.0 jiter-0.5.0 openai-1.42.0\n"
          ]
        }
      ]
    },
    {
      "cell_type": "code",
      "source": [
        "import openai\n",
        "\n",
        "openai_api_key = openai.api_key ##tive que trocar de posição pois estava dando erro\n",
        "\n",
        "def gerar_frases_users(user):\n",
        "  completion = openai.ChatCompletion.create(\n",
        "  model=\"gpt-4o-mini\",\n",
        "  messages=[\n",
        "    {\"role\": \"system\", \"content\": \"Você é um especialista em marketing bancário\"},\n",
        "    {\"role\": \"user\", \"content\": f\"Crie uma mensagem para {user['name']} sobre a importância dos investimentos(máximo de 100 caracteres)\"}\n",
        "  ]\n",
        ")\n",
        "\n",
        "  respondeChatGPT = completion.choices[0].message.content.strip('\\\"')\n",
        "\n",
        "  for user in users:\n",
        "     news = gerar_frases_users(user)\n",
        "     print(news)\n",
        "     user['news'].append()\n",
        ""
      ],
      "metadata": {
        "id": "3mglRKEcCDvU"
      },
      "execution_count": 16,
      "outputs": []
    },
    {
      "cell_type": "markdown",
      "source": [
        "#CARREGAMENTO (LOAD)"
      ],
      "metadata": {
        "id": "eivJWuySIfdT"
      }
    },
    {
      "cell_type": "code",
      "source": [
        "def update_user(user):\n",
        "  response = requests.put(f\"{sdw2023_api_url}/users/{user['id']}\", json=user)\n",
        "  return True if response.status_code ==200 else False\n",
        "\n",
        "  for user in users:\n",
        "     success = update_user(user)\n",
        "     print(f\"User {user['name']} updated ? {success}!\")"
      ],
      "metadata": {
        "id": "p_3SDQSXIisP"
      },
      "execution_count": 15,
      "outputs": []
    },
    {
      "cell_type": "code",
      "source": [],
      "metadata": {
        "id": "nWcB7U6sJDAu"
      },
      "execution_count": null,
      "outputs": []
    }
  ]
}